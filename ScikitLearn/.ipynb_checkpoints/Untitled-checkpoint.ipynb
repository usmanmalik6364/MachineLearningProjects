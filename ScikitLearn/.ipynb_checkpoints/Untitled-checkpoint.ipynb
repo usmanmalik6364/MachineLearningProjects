{
 "cells": [
  {
   "cell_type": "markdown",
   "metadata": {},
   "source": [
    "<h1> An Introduction to Scikit Learn (SKLEARN) </h1>\n",
    "<p> Workflow</p>\n",
    "<ul>\n",
    "    <li> 0. Getting data read</li>\n",
    "    <li> 1. Choose the right algorithm/estimator</li>\n",
    "    <li> 2. Fit the model/algorithm and use it to make predictions on our data</li>\n",
    "    <li>3. Evaluate the model</li>\n",
    "    <li> 4. Evaluate the model</li>\n",
    "    <li> 5. Improve the model</li>\n",
    "    <li> 6. Save and load a trained model</li>\n",
    "</ul>"
   ]
  },
  {
   "cell_type": "code",
   "execution_count": null,
   "metadata": {},
   "outputs": [],
   "source": [
    "#Getting the data ready\n",
    "import pandas as pd\n",
    "heart_disease = pd.read_csv('data/')"
   ]
  }
 ],
 "metadata": {
  "kernelspec": {
   "display_name": "Python 3",
   "language": "python",
   "name": "python3"
  },
  "language_info": {
   "codemirror_mode": {
    "name": "ipython",
    "version": 3
   },
   "file_extension": ".py",
   "mimetype": "text/x-python",
   "name": "python",
   "nbconvert_exporter": "python",
   "pygments_lexer": "ipython3",
   "version": "3.8.5"
  }
 },
 "nbformat": 4,
 "nbformat_minor": 4
}
